{
 "cells": [
  {
   "cell_type": "code",
   "execution_count": 2,
   "id": "b5506915-0772-43f1-ac34-efd4b7951370",
   "metadata": {},
   "outputs": [],
   "source": [
    "#tool box\n",
    "import pandas as pd\n",
    "from scipy import stats\n",
    "import numpy as np\n",
    "from matplotlib import pyplot as plt\n",
    "\n",
    "#stylin'\n",
    "plt.style.use('seaborn-darkgrid')\n",
    "\n",
    "#import the data\n",
    "data=pd.read_excel('InnerJoin.xlsx')"
   ]
  },
  {
   "cell_type": "code",
   "execution_count": 3,
   "id": "5d714560-f961-46af-85d8-b5f20e7de47e",
   "metadata": {},
   "outputs": [
    {
     "data": {
      "text/plain": [
       "-9.055555555555555"
      ]
     },
     "execution_count": 3,
     "metadata": {},
     "output_type": "execute_result"
    }
   ],
   "source": [
    "#average d13C/river for every river\n",
    "\n",
    "#easy enough to do for one river, impractable to do this name by name...\n",
    "idx = data['geo_name']=='Rhone'\n",
    "np.mean(data['d13C_DIC'][idx])"
   ]
  },
  {
   "cell_type": "code",
   "execution_count": 61,
   "id": "eac7cdcc",
   "metadata": {},
   "outputs": [
    {
     "name": "stdout",
     "output_type": "stream",
     "text": [
      "177\n"
     ]
    }
   ],
   "source": [
    "new_data=data.loc[np.isnan(data['discharge'])==False]\n",
    "\n",
    "name_list=list(set(new_data['geo_name']))\n",
    "\n",
    "average_d13c=[]\n",
    "for n in name_list:\n",
    "    idx = data['geo_name']==n\n",
    "    mu=np.mean(new_data['d13C_DIC'][idx])\n",
    "    tmp=new_data['discharge'][idx].tolist()\n",
    "    tmp=list(set(tmp))\n",
    "    average_d13c.append([n,mu,tmp[0]])  \n",
    "#     print(len(tmp))\n",
    "    \n",
    "average_d13c=pd.DataFrame(average_d13c,columns=['name','d13c','discharge'])\n",
    "\n",
    "average_d13c.head()\n",
    "print(len(average_d13c['d13c']))"
   ]
  },
  {
   "cell_type": "code",
   "execution_count": 47,
   "id": "fe1e54cd",
   "metadata": {},
   "outputs": [],
   "source": [
    "\n",
    "# Import PyCO2SYS\n",
    "import PyCO2SYS as pyco2\n",
    "\n",
    "kwargs = dict(\n",
    "    par1 = new_data['Alk_trans'],\n",
    "    par1_type = 1, #alkalinity\n",
    "    par2 = new_data['DIC_transformed'],\n",
    "    par2_type = 2 #DIC\n",
    ")\n",
    "# Run PyCO2SYS\n",
    "results = pyco2.sys(**kwargs)\n",
    "pH_1 = np.array(results['pH'])\n",
    "\n",
    "# result = list including nans\n",
    "\n",
    "kwargs = dict(\n",
    "    par1 = new_data['HCO3_trans'],\n",
    "    par1_type = 7, \n",
    "    par2 = new_data['pCO2_trans'],\n",
    "    par2_type = 4 \n",
    ")\n",
    "# Run PyCO2SYS\n",
    "results = pyco2.sys(**kwargs)\n",
    "pH_2 = np.array(results['pH'])\n",
    "\n",
    "kwargs = dict(\n",
    "    par1 = new_data['DIC_transformed'],\n",
    "    par1_type = 2, \n",
    "    par2 = new_data['pCO2_trans'],\n",
    "    par2_type = 4 \n",
    ")\n",
    "# Run PyCO2SYS\n",
    "results = pyco2.sys(**kwargs)\n",
    "pH_3 = np.array(results['pH'])\n",
    "\n",
    "kwargs = dict(\n",
    "    par1 = new_data['DIC_transformed'],\n",
    "    par1_type = 2, \n",
    "    par2 = new_data['HCO3_trans'],\n",
    "    par2_type = 4 \n",
    ")\n",
    "# Run PyCO2SYS\n",
    "results = pyco2.sys(**kwargs)\n",
    "pH_4 = np.array(results['pH'])\n",
    "\n",
    "kwargs = dict(\n",
    "    par1 = new_data['Alk_trans'],\n",
    "    par1_type = 1, \n",
    "    par2 = new_data['pCO2_trans'],\n",
    "    par2_type = 4 \n",
    ")\n",
    "# Run PyCO2SYS\n",
    "results = pyco2.sys(**kwargs)\n",
    "pH_5 = np.array(results['pH'])"
   ]
  },
  {
   "cell_type": "code",
   "execution_count": 48,
   "id": "e4005579",
   "metadata": {},
   "outputs": [
    {
     "name": "stdout",
     "output_type": "stream",
     "text": [
      "1626\n",
      "1574\n",
      "1547\n",
      "1484\n",
      "1483\n",
      "350\n"
     ]
    }
   ],
   "source": [
    "import copy\n",
    "pH=copy.deepcopy(pH_1)\n",
    "print(sum(np.isnan(pH)))\n",
    "\n",
    "#logical indexing of this new coppied list\n",
    "#where nan is true, adopt pH2 values\n",
    "pH[np.isnan(pH)]=pH_2[np.isnan(pH)]\n",
    "print(sum(np.isnan(pH)))\n",
    "#sum should be less\n",
    "pH[np.isnan(pH)]=pH_3[np.isnan(pH)]\n",
    "print(sum(np.isnan(pH)))\n",
    "\n",
    "pH[np.isnan(pH)]=pH_4[np.isnan(pH)]\n",
    "print(sum(np.isnan(pH)))\n",
    "\n",
    "pH[np.isnan(pH)]=pH_5[np.isnan(pH)]\n",
    "print(sum(np.isnan(pH)))\n",
    "\n",
    "print(sum(~np.isnan(pH)))"
   ]
  },
  {
   "cell_type": "code",
   "execution_count": 59,
   "id": "9f062d28",
   "metadata": {},
   "outputs": [
    {
     "name": "stdout",
     "output_type": "stream",
     "text": [
      "[-0.38061763 -0.38197804 -0.25681017 ...         nan         nan\n",
      "         nan]\n",
      "1833\n"
     ]
    }
   ],
   "source": [
    "T=25    #degree C\n",
    "S=35    #PSS\n",
    "TK = T + 273.15 \n",
    "DIC=np.array(new_data['DIC_transformed'])\n",
    "\n",
    "K1 = 10**(-(3633.86/TK - 61.2172 + 9.67770 * np.log(TK)- 0.011555*S + 0.0001152 * S**2))\n",
    "K2 = 10**(-(471.78/TK + 25.9290 - 3.16967 * np.log(TK) - 0.01781*S + 0.0001122 * S**2))\n",
    "\n",
    "\n",
    "H=10**(-pH)  \n",
    "\n",
    "HCO_3 = DIC/(1 + H/K1 + K2/H)\n",
    "CO_3 = DIC/(1 + H/K2 + H*H/(K1*K2))\n",
    "CO2 = DIC/(1 + K1/H + K1*K2/(H*H))\n",
    "CO2aq=-9\n",
    "CO3=-2\n",
    "HCO3=0\n",
    "d13C_DIC_pred = (CO2/DIC)*CO2aq + (CO_3/DIC)*CO3 + (HCO_3/DIC)*HCO3\n",
    "print(d13C_DIC_pred)\n",
    "print(len(d13C_DIC_pred))"
   ]
  },
  {
   "cell_type": "code",
   "execution_count": 58,
   "id": "93c364b0",
   "metadata": {},
   "outputs": [
    {
     "ename": "TypeError",
     "evalue": "list indices must be integers or slices, not str",
     "output_type": "error",
     "traceback": [
      "\u001b[0;31m---------------------------------------------------------------------------\u001b[0m",
      "\u001b[0;31mTypeError\u001b[0m                                 Traceback (most recent call last)",
      "\u001b[0;32m/var/folders/v9/0fg88q9x1ts1bm2hlqzzjvwr0000gn/T/ipykernel_1298/3612002375.py\u001b[0m in \u001b[0;36m<module>\u001b[0;34m\u001b[0m\n\u001b[1;32m      1\u001b[0m \u001b[0md13C_DIC_pred\u001b[0m\u001b[0;34m=\u001b[0m\u001b[0mnp\u001b[0m\u001b[0;34m.\u001b[0m\u001b[0marray\u001b[0m\u001b[0;34m(\u001b[0m\u001b[0md13C_DIC_pred\u001b[0m\u001b[0;34m)\u001b[0m\u001b[0;34m\u001b[0m\u001b[0;34m\u001b[0m\u001b[0m\n\u001b[0;32m----> 2\u001b[0;31m \u001b[0maverage_d13c\u001b[0m\u001b[0;34m[\u001b[0m\u001b[0;34m'd13C_DIC_pred'\u001b[0m\u001b[0;34m]\u001b[0m\u001b[0;34m=\u001b[0m\u001b[0md13C_DIC_pred\u001b[0m\u001b[0;34m.\u001b[0m\u001b[0mastype\u001b[0m\u001b[0;34m(\u001b[0m\u001b[0mfloat\u001b[0m\u001b[0;34m)\u001b[0m\u001b[0;34m\u001b[0m\u001b[0;34m\u001b[0m\u001b[0m\n\u001b[0m\u001b[1;32m      3\u001b[0m \u001b[0;34m\u001b[0m\u001b[0m\n\u001b[1;32m      4\u001b[0m \u001b[0;31m#cant seem to add d13C_pred to data frame\u001b[0m\u001b[0;34m\u001b[0m\u001b[0;34m\u001b[0m\u001b[0m\n",
      "\u001b[0;31mTypeError\u001b[0m: list indices must be integers or slices, not str"
     ]
    }
   ],
   "source": [
    "\n",
    "d13C_DIC_pred=np.array(d13C_DIC_pred)\n",
    "average_d13c['d13C_DIC_pred']=d13C_DIC_pred.astype(float)\n",
    "\n",
    "#cant seem to add d13C_pred to data frame"
   ]
  },
  {
   "cell_type": "code",
   "execution_count": 56,
   "id": "d7c8dd2e",
   "metadata": {},
   "outputs": [
    {
     "ename": "KeyError",
     "evalue": "'d13C_DIC_pred'",
     "output_type": "error",
     "traceback": [
      "\u001b[0;31m---------------------------------------------------------------------------\u001b[0m",
      "\u001b[0;31mKeyError\u001b[0m                                  Traceback (most recent call last)",
      "\u001b[0;32m~/opt/anaconda3/lib/python3.9/site-packages/pandas/core/indexes/base.py\u001b[0m in \u001b[0;36mget_loc\u001b[0;34m(self, key, method, tolerance)\u001b[0m\n\u001b[1;32m   3360\u001b[0m             \u001b[0;32mtry\u001b[0m\u001b[0;34m:\u001b[0m\u001b[0;34m\u001b[0m\u001b[0;34m\u001b[0m\u001b[0m\n\u001b[0;32m-> 3361\u001b[0;31m                 \u001b[0;32mreturn\u001b[0m \u001b[0mself\u001b[0m\u001b[0;34m.\u001b[0m\u001b[0m_engine\u001b[0m\u001b[0;34m.\u001b[0m\u001b[0mget_loc\u001b[0m\u001b[0;34m(\u001b[0m\u001b[0mcasted_key\u001b[0m\u001b[0;34m)\u001b[0m\u001b[0;34m\u001b[0m\u001b[0;34m\u001b[0m\u001b[0m\n\u001b[0m\u001b[1;32m   3362\u001b[0m             \u001b[0;32mexcept\u001b[0m \u001b[0mKeyError\u001b[0m \u001b[0;32mas\u001b[0m \u001b[0merr\u001b[0m\u001b[0;34m:\u001b[0m\u001b[0;34m\u001b[0m\u001b[0;34m\u001b[0m\u001b[0m\n",
      "\u001b[0;32m~/opt/anaconda3/lib/python3.9/site-packages/pandas/_libs/index.pyx\u001b[0m in \u001b[0;36mpandas._libs.index.IndexEngine.get_loc\u001b[0;34m()\u001b[0m\n",
      "\u001b[0;32m~/opt/anaconda3/lib/python3.9/site-packages/pandas/_libs/index.pyx\u001b[0m in \u001b[0;36mpandas._libs.index.IndexEngine.get_loc\u001b[0;34m()\u001b[0m\n",
      "\u001b[0;32mpandas/_libs/hashtable_class_helper.pxi\u001b[0m in \u001b[0;36mpandas._libs.hashtable.PyObjectHashTable.get_item\u001b[0;34m()\u001b[0m\n",
      "\u001b[0;32mpandas/_libs/hashtable_class_helper.pxi\u001b[0m in \u001b[0;36mpandas._libs.hashtable.PyObjectHashTable.get_item\u001b[0;34m()\u001b[0m\n",
      "\u001b[0;31mKeyError\u001b[0m: 'd13C_DIC_pred'",
      "\nThe above exception was the direct cause of the following exception:\n",
      "\u001b[0;31mKeyError\u001b[0m                                  Traceback (most recent call last)",
      "\u001b[0;32m/var/folders/v9/0fg88q9x1ts1bm2hlqzzjvwr0000gn/T/ipykernel_1298/373082776.py\u001b[0m in \u001b[0;36m<module>\u001b[0;34m\u001b[0m\n\u001b[1;32m      7\u001b[0m     \u001b[0midx\u001b[0m \u001b[0;34m=\u001b[0m \u001b[0mdata\u001b[0m\u001b[0;34m[\u001b[0m\u001b[0;34m'geo_name'\u001b[0m\u001b[0;34m]\u001b[0m\u001b[0;34m==\u001b[0m\u001b[0mn\u001b[0m\u001b[0;34m\u001b[0m\u001b[0;34m\u001b[0m\u001b[0m\n\u001b[1;32m      8\u001b[0m     \u001b[0mmu\u001b[0m\u001b[0;34m=\u001b[0m\u001b[0mnp\u001b[0m\u001b[0;34m.\u001b[0m\u001b[0mmean\u001b[0m\u001b[0;34m(\u001b[0m\u001b[0mnew_data\u001b[0m\u001b[0;34m[\u001b[0m\u001b[0;34m'd13C_DIC'\u001b[0m\u001b[0;34m]\u001b[0m\u001b[0;34m[\u001b[0m\u001b[0midx\u001b[0m\u001b[0;34m]\u001b[0m\u001b[0;34m)\u001b[0m\u001b[0;34m\u001b[0m\u001b[0;34m\u001b[0m\u001b[0m\n\u001b[0;32m----> 9\u001b[0;31m     \u001b[0mmu2\u001b[0m\u001b[0;34m=\u001b[0m\u001b[0mnp\u001b[0m\u001b[0;34m.\u001b[0m\u001b[0mmean\u001b[0m\u001b[0;34m(\u001b[0m\u001b[0mnew_data\u001b[0m\u001b[0;34m[\u001b[0m\u001b[0;34m'd13C_DIC_pred'\u001b[0m\u001b[0;34m]\u001b[0m\u001b[0;34m[\u001b[0m\u001b[0midx\u001b[0m\u001b[0;34m]\u001b[0m\u001b[0;34m)\u001b[0m\u001b[0;34m\u001b[0m\u001b[0;34m\u001b[0m\u001b[0m\n\u001b[0m\u001b[1;32m     10\u001b[0m     \u001b[0mtmp\u001b[0m\u001b[0;34m=\u001b[0m\u001b[0mnew_data\u001b[0m\u001b[0;34m[\u001b[0m\u001b[0;34m'discharge'\u001b[0m\u001b[0;34m]\u001b[0m\u001b[0;34m[\u001b[0m\u001b[0midx\u001b[0m\u001b[0;34m]\u001b[0m\u001b[0;34m.\u001b[0m\u001b[0mtolist\u001b[0m\u001b[0;34m(\u001b[0m\u001b[0;34m)\u001b[0m\u001b[0;34m\u001b[0m\u001b[0;34m\u001b[0m\u001b[0m\n\u001b[1;32m     11\u001b[0m     \u001b[0mtmp\u001b[0m\u001b[0;34m=\u001b[0m\u001b[0mlist\u001b[0m\u001b[0;34m(\u001b[0m\u001b[0mset\u001b[0m\u001b[0;34m(\u001b[0m\u001b[0mtmp\u001b[0m\u001b[0;34m)\u001b[0m\u001b[0;34m)\u001b[0m\u001b[0;34m\u001b[0m\u001b[0;34m\u001b[0m\u001b[0m\n",
      "\u001b[0;32m~/opt/anaconda3/lib/python3.9/site-packages/pandas/core/frame.py\u001b[0m in \u001b[0;36m__getitem__\u001b[0;34m(self, key)\u001b[0m\n\u001b[1;32m   3456\u001b[0m             \u001b[0;32mif\u001b[0m \u001b[0mself\u001b[0m\u001b[0;34m.\u001b[0m\u001b[0mcolumns\u001b[0m\u001b[0;34m.\u001b[0m\u001b[0mnlevels\u001b[0m \u001b[0;34m>\u001b[0m \u001b[0;36m1\u001b[0m\u001b[0;34m:\u001b[0m\u001b[0;34m\u001b[0m\u001b[0;34m\u001b[0m\u001b[0m\n\u001b[1;32m   3457\u001b[0m                 \u001b[0;32mreturn\u001b[0m \u001b[0mself\u001b[0m\u001b[0;34m.\u001b[0m\u001b[0m_getitem_multilevel\u001b[0m\u001b[0;34m(\u001b[0m\u001b[0mkey\u001b[0m\u001b[0;34m)\u001b[0m\u001b[0;34m\u001b[0m\u001b[0;34m\u001b[0m\u001b[0m\n\u001b[0;32m-> 3458\u001b[0;31m             \u001b[0mindexer\u001b[0m \u001b[0;34m=\u001b[0m \u001b[0mself\u001b[0m\u001b[0;34m.\u001b[0m\u001b[0mcolumns\u001b[0m\u001b[0;34m.\u001b[0m\u001b[0mget_loc\u001b[0m\u001b[0;34m(\u001b[0m\u001b[0mkey\u001b[0m\u001b[0;34m)\u001b[0m\u001b[0;34m\u001b[0m\u001b[0;34m\u001b[0m\u001b[0m\n\u001b[0m\u001b[1;32m   3459\u001b[0m             \u001b[0;32mif\u001b[0m \u001b[0mis_integer\u001b[0m\u001b[0;34m(\u001b[0m\u001b[0mindexer\u001b[0m\u001b[0;34m)\u001b[0m\u001b[0;34m:\u001b[0m\u001b[0;34m\u001b[0m\u001b[0;34m\u001b[0m\u001b[0m\n\u001b[1;32m   3460\u001b[0m                 \u001b[0mindexer\u001b[0m \u001b[0;34m=\u001b[0m \u001b[0;34m[\u001b[0m\u001b[0mindexer\u001b[0m\u001b[0;34m]\u001b[0m\u001b[0;34m\u001b[0m\u001b[0;34m\u001b[0m\u001b[0m\n",
      "\u001b[0;32m~/opt/anaconda3/lib/python3.9/site-packages/pandas/core/indexes/base.py\u001b[0m in \u001b[0;36mget_loc\u001b[0;34m(self, key, method, tolerance)\u001b[0m\n\u001b[1;32m   3361\u001b[0m                 \u001b[0;32mreturn\u001b[0m \u001b[0mself\u001b[0m\u001b[0;34m.\u001b[0m\u001b[0m_engine\u001b[0m\u001b[0;34m.\u001b[0m\u001b[0mget_loc\u001b[0m\u001b[0;34m(\u001b[0m\u001b[0mcasted_key\u001b[0m\u001b[0;34m)\u001b[0m\u001b[0;34m\u001b[0m\u001b[0;34m\u001b[0m\u001b[0m\n\u001b[1;32m   3362\u001b[0m             \u001b[0;32mexcept\u001b[0m \u001b[0mKeyError\u001b[0m \u001b[0;32mas\u001b[0m \u001b[0merr\u001b[0m\u001b[0;34m:\u001b[0m\u001b[0;34m\u001b[0m\u001b[0;34m\u001b[0m\u001b[0m\n\u001b[0;32m-> 3363\u001b[0;31m                 \u001b[0;32mraise\u001b[0m \u001b[0mKeyError\u001b[0m\u001b[0;34m(\u001b[0m\u001b[0mkey\u001b[0m\u001b[0;34m)\u001b[0m \u001b[0;32mfrom\u001b[0m \u001b[0merr\u001b[0m\u001b[0;34m\u001b[0m\u001b[0;34m\u001b[0m\u001b[0m\n\u001b[0m\u001b[1;32m   3364\u001b[0m \u001b[0;34m\u001b[0m\u001b[0m\n\u001b[1;32m   3365\u001b[0m         \u001b[0;32mif\u001b[0m \u001b[0mis_scalar\u001b[0m\u001b[0;34m(\u001b[0m\u001b[0mkey\u001b[0m\u001b[0;34m)\u001b[0m \u001b[0;32mand\u001b[0m \u001b[0misna\u001b[0m\u001b[0;34m(\u001b[0m\u001b[0mkey\u001b[0m\u001b[0;34m)\u001b[0m \u001b[0;32mand\u001b[0m \u001b[0;32mnot\u001b[0m \u001b[0mself\u001b[0m\u001b[0;34m.\u001b[0m\u001b[0mhasnans\u001b[0m\u001b[0;34m:\u001b[0m\u001b[0;34m\u001b[0m\u001b[0;34m\u001b[0m\u001b[0m\n",
      "\u001b[0;31mKeyError\u001b[0m: 'd13C_DIC_pred'"
     ]
    }
   ],
   "source": [
    "new_data=data.loc[np.isnan(data['discharge'])==False]\n",
    "\n",
    "name_list=list(set(new_data['geo_name']))\n",
    "\n",
    "average_d13c=[]\n",
    "for n in name_list:\n",
    "    idx = data['geo_name']==n\n",
    "    mu=np.mean(new_data['d13C_DIC'][idx])\n",
    "    mu2=np.mean(new_data['d13C_DIC_pred'][idx])\n",
    "    tmp=new_data['discharge'][idx].tolist()\n",
    "    tmp=list(set(tmp))\n",
    "    average_d13c.append([n,mu,tmp[0]])  \n",
    "#     print(len(tmp))\n",
    "    \n",
    "average_d13c=pd.DataFrame(average_d13c,columns=['name','d13c','d13C_pred','discharge'])\n",
    "\n",
    "average_d13c.head()\n",
    "print(len(new_data['DIC_transformed']))"
   ]
  },
  {
   "cell_type": "code",
   "execution_count": 51,
   "id": "8b90964b",
   "metadata": {},
   "outputs": [],
   "source": [
    "r=new_data['d13C_DIC']-d13C_DIC_pred"
   ]
  },
  {
   "cell_type": "code",
   "execution_count": 52,
   "id": "943a320c",
   "metadata": {},
   "outputs": [
    {
     "data": {
      "text/plain": [
       "Text(0.5, 1.0, '$\\\\delta^{13}$C$_{\\\\mathrm{DIC}}$ vs. Rhone river discharge rate')"
      ]
     },
     "execution_count": 52,
     "metadata": {},
     "output_type": "execute_result"
    },
    {
     "data": {
      "image/png": "[encoded data removed]",
      "text/plain": [
       "<Figure size 720x576 with 1 Axes>"
      ]
     },
     "metadata": {},
     "output_type": "display_data"
    }
   ],
   "source": [
    "x=new_data['discharge']\n",
    "plt.figure(figsize=(10,8))\n",
    "plt.scatter(x,r)\n",
    "# plt.scatter(x,y2,label='d13C_pred')\n",
    "plt.xticks(fontsize=15)\n",
    "plt.yticks(fontsize=15)\n",
    "plt.ylabel('$\\delta^{13}$C$_{\\mathrm{DIC}}$ ‰',fontsize=18)\n",
    "plt.xlabel('river discharge rate (m$^3$/s)',fontsize=18)\n",
    "plt.title('$\\delta^{13}$C$_{\\mathrm{DIC}}$ vs.river discharge rate', fontsize=20)"
   ]
  },
  {
   "cell_type": "code",
   "execution_count": 34,
   "id": "008dabc6",
   "metadata": {},
   "outputs": [
    {
     "name": "stdout",
     "output_type": "stream",
     "text": [
      "[1, 2, 3]\n"
     ]
    },
    {
     "data": {
      "text/plain": [
       "[100, 2, 3]"
      ]
     },
     "execution_count": 34,
     "metadata": {},
     "output_type": "execute_result"
    }
   ],
   "source": [
    "a=[1,2,3]\n",
    "b=a\n",
    "print(b)\n",
    "a[0]=100 #mutation: applies to ALL copies of OG list- not if you do copy.deepcopy\n",
    "b"
   ]
  },
  {
   "cell_type": "code",
   "execution_count": null,
   "id": "81839711",
   "metadata": {},
   "outputs": [],
   "source": []
  }
 ],
 "metadata": {
  "kernelspec": {
   "display_name": "Python 3 (ipykernel)",
   "language": "python",
   "name": "python3"
  },
  "language_info": {
   "codemirror_mode": {
    "name": "ipython",
    "version": 3
   },
   "file_extension": ".py",
   "mimetype": "text/x-python",
   "name": "python",
   "nbconvert_exporter": "python",
   "pygments_lexer": "ipython3",
   "version": "3.9.7"
  }
 },
 "nbformat": 4,
 "nbformat_minor": 5
}
