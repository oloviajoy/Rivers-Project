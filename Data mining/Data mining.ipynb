{
 "cells": [
  {
   "cell_type": "code",
   "execution_count": 1,
   "metadata": {},
   "outputs": [
    {
     "name": "stdout",
     "output_type": "stream",
     "text": [
      "1 pages downloaded "
     ]
    }
   ],
   "source": [
    "#get your tools\n",
    "import json, urllib, re\n",
    "import pandas as pd\n",
    "\n",
    "#%%\n",
    "#http://teststrata.geology.wisc.edu/xdd/index.php\n",
    "\n",
    "#empty dictionary for all data\n",
    "library=dict()\n",
    "\n",
    "\n",
    "#list of URLs (all results)\n",
    "urls=['https://xdd.wisc.edu/api/snippets?term=river%2Ccarbon+isotope%2CDIC&full_results=true&inclusive=true',\n",
    "      'https://xdd.wisc.edu/api/snippets?term=river%2C%CE%B413C%2CDIC&full_results=true&inclusive=true',\n",
    "      'https://xdd.wisc.edu/api/snippets?term=Amazon%2Criver%2Ccarbon+isotope%2CDIC&full_results=true&inclusive=true']\n",
    "\n",
    "#list of URLs (just one year)\n",
    "#urls=['https://xdd.wisc.edu/api/snippets?term=river%2C%CE%B413C%2CDIC&full_results=true&inclusive=true&min_published=2020-01-01','https://xdd.wisc.edu/api/snippets?term=river%2Ccarbon+isotope%2CDIC&full_results=true&inclusive=true&min_published=2020-01-01']\n",
    "\n",
    "#loop through each url\n",
    "for url in urls:\n",
    "    #empty list for all the data for this url\n",
    "    data=[]\n",
    "    \n",
    "    #download the first page\n",
    "    tmp_page=json.load(urllib.request.urlopen(url))['success']\n",
    "    i=0\n",
    "    \n",
    "    #while a \"next page\" still exists:\n",
    "    while len(tmp_page['next_page'])!=0:\n",
    "        #grab data for this page\n",
    "        tmp_data=tmp_page['data']\n",
    "        \n",
    "        #delete the \"highlights\n",
    "        for t in tmp_data:\n",
    "            t.pop('highlight')\n",
    "        data.extend(tmp_data)\n",
    "        \n",
    "        #find the next url\n",
    "        url=tmp_page['next_page']\n",
    "        \n",
    "        #load this page\n",
    "        tmp_page=json.load(urllib.request.urlopen(url))['success']\n",
    "        i+=1\n",
    "        print('\\r%s pages downloaded' % (i), end =\" \")\n",
    "        \n",
    "    #when while loop is broken, one more page is needed to be downloaded\n",
    "    tmp_data=tmp_page['data']\n",
    "    for t in tmp_data:\n",
    "        t.pop('highlight')\n",
    "    data.extend(tmp_data)\n",
    "    \n",
    "    #reformat list as a dictionary\n",
    "    for d in data:\n",
    "        library[d['_gddid']]=d"
   ]
  },
  {
   "cell_type": "code",
   "execution_count": 2,
   "metadata": {},
   "outputs": [],
   "source": [
    "#cullings - do you want to further trim your list of references?\n",
    "matches=['carbon']\n",
    "cuts=[]\n",
    "\n",
    "#loop through each dictionary key\n",
    "for l in library:\n",
    "    check=[]\n",
    "    \n",
    "    #see if any \"match word\" exists in the title\n",
    "    for m in matches:\n",
    "        tmp=re.findall(m, library[l]['title'])\n",
    "        check.extend(tmp)\n",
    "    \n",
    "    #if no matches found, add to \"cut list\"\n",
    "    if len(check)==0:\n",
    "        cuts.append(l)\n",
    "#new = dict()\n",
    "\n",
    "#loop through cut list and delete these entries\n",
    "for c in cuts:\n",
    "    library.pop(c)\n",
    "    #new[c] = library[c]"
   ]
  },
  {
   "cell_type": "code",
   "execution_count": 3,
   "metadata": {},
   "outputs": [
    {
     "name": "stdout",
     "output_type": "stream",
     "text": [
      "1288\n"
     ]
    }
   ],
   "source": [
    "print(len(library)) #library"
   ]
  },
  {
   "cell_type": "code",
   "execution_count": 4,
   "metadata": {},
   "outputs": [
    {
     "name": "stdout",
     "output_type": "stream",
     "text": [
      "1288\n"
     ]
    },
    {
     "ename": "NameError",
     "evalue": "name 'new' is not defined",
     "output_type": "error",
     "traceback": [
      "\u001b[0;31m---------------------------------------------------------------------------\u001b[0m",
      "\u001b[0;31mNameError\u001b[0m                                 Traceback (most recent call last)",
      "\u001b[0;32m<ipython-input-4-5a0a1497c03e>\u001b[0m in \u001b[0;36m<module>\u001b[0;34m\u001b[0m\n\u001b[1;32m      1\u001b[0m \u001b[0mprint\u001b[0m\u001b[0;34m(\u001b[0m\u001b[0mlen\u001b[0m\u001b[0;34m(\u001b[0m\u001b[0mlibrary\u001b[0m\u001b[0;34m)\u001b[0m\u001b[0;34m)\u001b[0m \u001b[0;31m#og library\u001b[0m\u001b[0;34m\u001b[0m\u001b[0;34m\u001b[0m\u001b[0m\n\u001b[0;32m----> 2\u001b[0;31m \u001b[0mprint\u001b[0m\u001b[0;34m(\u001b[0m\u001b[0mlen\u001b[0m\u001b[0;34m(\u001b[0m\u001b[0mnew\u001b[0m\u001b[0;34m)\u001b[0m\u001b[0;34m)\u001b[0m \u001b[0;31m#new library\u001b[0m\u001b[0;34m\u001b[0m\u001b[0;34m\u001b[0m\u001b[0m\n\u001b[0m",
      "\u001b[0;31mNameError\u001b[0m: name 'new' is not defined"
     ]
    }
   ],
   "source": [
    "print(len(library)) #og library\n",
    "print(len(new)) #new library "
   ]
  },
  {
   "cell_type": "code",
   "execution_count": null,
   "metadata": {},
   "outputs": [],
   "source": [
    "#export data as an excel sheet\n",
    "to_export=pd.DataFrame(library.values())\n",
    "\n",
    "to_export=to_export[['_gddid',\n",
    "                     'title',\n",
    "                     'pubname',\n",
    "                     'publisher',\n",
    "                     'doi',\n",
    "                     'coverDate',\n",
    "                     'authors',\n",
    "                     'URL']]\n",
    "\n",
    "to_export.to_excel('filtered_data_OG.xlsx')"
   ]
  },
  {
   "cell_type": "code",
   "execution_count": null,
   "metadata": {},
   "outputs": [],
   "source": [
    "#get your tools\n",
    "import json, urllib, re\n",
    "import pandas as pd\n",
    "\n",
    "#%%\n",
    "\n",
    "##GUI search site\n",
    "#http://teststrata.geology.wisc.edu/xdd/index.php\n",
    "\n",
    "##Google Sheets database\n",
    "#https://docs.google.com/spreadsheets/d/1adSN_lOdIZxYu0gArDmgu1QYjewcxl5Oq7VkRQQJD9U/edit?invite=CPStjv0P&ts=6065ed8e#gid=0\n",
    "\n",
    "#empty dictionary for all data\n",
    "library=dict()\n",
    "\n",
    "\n",
    "#list of URLs (all results)\n",
    "urls=['https://xdd.wisc.edu/api/snippets?term=river%2Ccarbon+isotope%2CDIC&full_results=true&inclusive=true',\n",
    "      'https://xdd.wisc.edu/api/snippets?term=river%2C%CE%B413C%2CDIC&full_results=true&inclusive=true',\n",
    "      'https://xdd.wisc.edu/api/snippets?term=Amazon%2Criver%2Ccarbon+isotope%2CDIC&full_results=true&inclusive=true']\n",
    "\n",
    "\n",
    "#list of URLs (just one year)\n",
    "#urls=['https://xdd.wisc.edu/api/snippets?term=river%2C%CE%B413C%2CDIC&full_results=true&inclusive=true&min_published=2020-01-01',\n",
    "      #'https://xdd.wisc.edu/api/snippets?term=river%2Ccarbon+isotope%2CDIC&full_results=true&inclusive=true&min_published=2020-01-01']\n",
    "\n",
    "#loop through each url\n",
    "for url in urls:\n",
    "    #empty list for all the data for this url\n",
    "    data=[]\n",
    "    \n",
    "    #download the first page\n",
    "    tmp_page=json.load(urllib.request.urlopen(url))['success']\n",
    "    i=0\n",
    "    \n",
    "    #while a \"next page\" still exists:\n",
    "    while len(tmp_page['next_page'])!=0:\n",
    "        #grab data for this page\n",
    "        tmp_data=tmp_page['data']\n",
    "        \n",
    "        #delete the \"highlights\n",
    "        for t in tmp_data:\n",
    "            t.pop('highlight')\n",
    "        data.extend(tmp_data)\n",
    "        \n",
    "        #find the next url\n",
    "        url=tmp_page['next_page']\n",
    "        \n",
    "        #load this page\n",
    "        tmp_page=json.load(urllib.request.urlopen(url))['success']\n",
    "        i+=1\n",
    "        print('\\r%s pages downloaded' % (i), end =\" \")\n",
    "        \n",
    "    #when while loop is broken, one more page is needed to be downloaded\n",
    "    tmp_data=tmp_page['data']\n",
    "    for t in tmp_data:\n",
    "        t.pop('highlight')\n",
    "    data.extend(tmp_data)\n",
    "    \n",
    "    #reformat list as a dictionary\n",
    "    for d in data:\n",
    "        library[d['_gddid']]=d\n"
   ]
  },
  {
   "cell_type": "code",
   "execution_count": null,
   "metadata": {},
   "outputs": [],
   "source": [
    "#cullings - do you want to further trim your list of references?\n",
    "matches=[]\n",
    "\n",
    "cuts=[]\n",
    "\n",
    "#loop through each dictionary key\n",
    "for l in library:\n",
    "    check=[]\n",
    "    \n",
    "        \n",
    "  #see if any \"match word\" exists in the title\n",
    "    for m in matches:\n",
    "        tmp=re.findall(m, library[l]['title'].lower())\n",
    "        check.extend(tmp)\n",
    "    \n",
    "    #if no matches found, add to \"cut list\"\n",
    "    if len(check)==0:\n",
    "        cuts.append(l)\n",
    "\n",
    "#loop through cut list and store in a another dictionary\n",
    "new=dict()\n",
    "for c in cuts:\n",
    "    new[c]=library[c]\n",
    "\n",
    "#loop through cut list and delete these entries\n",
    "for c in cuts:\n",
    "    library.pop(c)\n"
   ]
  },
  {
   "cell_type": "code",
   "execution_count": null,
   "metadata": {},
   "outputs": [],
   "source": [
    "#export data as an excel sheet\n",
    "# to_export=pd.DataFrame(library.values())\n",
    "\n",
    "# to_export=to_export[['_gddid',\n",
    "#                      'title',\n",
    "#                      'pubname',\n",
    "#                      'publisher',\n",
    "#                      'doi',\n",
    "#                      'coverDate',\n",
    "#                      'authors',\n",
    "#                      'URL']]\n",
    "\n",
    "# to_export.to_excel('filtered_data.xlsx')\n",
    "\n",
    "#export data as an excel sheet\n",
    "to_export=pd.DataFrame(new.values())\n",
    "\n",
    "to_export=to_export[['_gddid',\n",
    "                     'title',\n",
    "                     'pubname',\n",
    "                     'publisher',\n",
    "                     'doi',\n",
    "                     'coverDate',\n",
    "                     'authors',\n",
    "                     'URL']]\n",
    "\n",
    "to_export.to_excel('unfiltered_data.xlsx')"
   ]
  },
  {
   "cell_type": "code",
   "execution_count": null,
   "metadata": {},
   "outputs": [],
   "source": []
  },
  {
   "cell_type": "code",
   "execution_count": null,
   "metadata": {},
   "outputs": [],
   "source": []
  }
 ],
 "metadata": {
  "kernelspec": {
   "display_name": "Python 3 (ipykernel)",
   "language": "python",
   "name": "python3"
  },
  "language_info": {
   "codemirror_mode": {
    "name": "ipython",
    "version": 3
   },
   "file_extension": ".py",
   "mimetype": "text/x-python",
   "name": "python",
   "nbconvert_exporter": "python",
   "pygments_lexer": "ipython3",
   "version": "3.9.7"
  }
 },
 "nbformat": 4,
 "nbformat_minor": 2
}
