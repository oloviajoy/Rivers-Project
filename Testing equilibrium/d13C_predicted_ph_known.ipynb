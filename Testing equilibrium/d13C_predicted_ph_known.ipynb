{
 "cells": [
  {
   "cell_type": "code",
   "execution_count": 1,
   "metadata": {},
   "outputs": [
    {
     "name": "stderr",
     "output_type": "stream",
     "text": [
      "/opt/anaconda3/lib/python3.7/site-packages/openpyxl/worksheet/_reader.py:296: UserWarning: Unknown extension is not supported and will be removed\n",
      "  warn(msg)\n"
     ]
    }
   ],
   "source": [
    "#tool box\n",
    "import pandas as pd\n",
    "from scipy import stats\n",
    "import numpy as np\n",
    "from matplotlib import pyplot as plt\n",
    "\n",
    "#stylin\n",
    "plt.style.use('seaborn-darkgrid')\n",
    "\n",
    "#import the data\n",
    "pd.read_excel('river_13C_data(4)_ph.xlsx')\n",
    "data1=pd.read_excel('river_13C_data(4)_ph.xlsx')"
   ]
  },
  {
   "cell_type": "code",
   "execution_count": 2,
   "metadata": {},
   "outputs": [],
   "source": [
    "subset=pd.DataFrame({'geo_class':['river','river plume','river mouth','tributary','catchment','watershed','reservoir']})\n",
    "data=subset.merge(data1,on='geo_class')"
   ]
  },
  {
   "cell_type": "code",
   "execution_count": 3,
   "metadata": {},
   "outputs": [],
   "source": [
    "#convert all units to µM/L\n",
    "tmp_data=[]\n",
    "for i,d in data.iterrows():\n",
    "    #uM/L --> mM/L\n",
    "    if d['DIC_units']=='µM/L':\n",
    "        tmp_data.append(d['DIC'])\n",
    "    #mM/L --> mM/L\n",
    "    elif d['DIC_units']=='mM/L':\n",
    "        tmp_data.append(d['DIC']*1000)\n",
    "    #mM/Kg --> mM/L\n",
    "    elif d['DIC_units']=='mM/kg':\n",
    "        tmp_data.append(d['DIC']*1000)\n",
    "    #uM/kg --> mM/L\n",
    "    elif d['DIC_units']=='µM/kg':\n",
    "        tmp_data.append(d['DIC']) \n",
    "    #mg C/L --> mM/L\n",
    "    elif d['DIC_units']=='mg C/L':\n",
    "        tmp_data.append((d['DIC']/12.011)*1000)\n",
    "    else:\n",
    "        tmp_data.append(np.nan)\n",
    "        \n",
    "tmp_data=np.array(tmp_data)\n",
    "data['DIC_trans']=tmp_data.astype(float)"
   ]
  },
  {
   "cell_type": "code",
   "execution_count": 4,
   "metadata": {},
   "outputs": [],
   "source": [
    "Alk_data=[]\n",
    "for i,d in data.iterrows():\n",
    "    if d['Alk_units']=='mM/L':\n",
    "        Alk_data.append(d['Alk']*1000)\n",
    "    elif d['Alk_units']=='mM/kg':\n",
    "        Alk_data.append(d['Alk']*1000)\n",
    "    elif d['Alk_units']=='meq/L':\n",
    "        Alk_data.append(d['Alk']*1000)\n",
    "    elif d['Alk_units']=='µM/L':\n",
    "        Alk_data.append(d['Alk'])\n",
    "    elif d['Alk_units']=='M/kg':\n",
    "        Alk_data.append(d['Alk'])\n",
    "    elif d['Alk_units']=='µeq/L':\n",
    "        Alk_data.append(d['Alk'])\n",
    "    else:\n",
    "        Alk_data.append(np.nan)\n",
    "        \n",
    "Alk_data=np.array(Alk_data)\n",
    "data['Alk_trans']=Alk_data.astype(float)"
   ]
  },
  {
   "cell_type": "code",
   "execution_count": 5,
   "metadata": {},
   "outputs": [],
   "source": [
    "import numpy as np\n",
    "import pandas as pd\n",
    "import xarray\n",
    "from matplotlib import pyplot as plt"
   ]
  },
  {
   "cell_type": "code",
   "execution_count": 6,
   "metadata": {},
   "outputs": [
    {
     "name": "stdout",
     "output_type": "stream",
     "text": [
      "Conditions have been defined!\n"
     ]
    }
   ],
   "source": [
    "# define input conditions; DIC and Alk\n",
    "kwargs = dict(\n",
    "    par1 = data['Alk_trans'],\n",
    "    par1_type = 1, #alkalinity\n",
    "    par2 = data['DIC_trans'],\n",
    "    par2_type = 2 #DIC\n",
    ")\n",
    "print(\"Conditions have been defined!\")"
   ]
  },
  {
   "cell_type": "code",
   "execution_count": 7,
   "metadata": {},
   "outputs": [],
   "source": [
    "# Import PyCO2SYS\n",
    "import PyCO2SYS as pyco2\n",
    "\n",
    "# Run PyCO2SYS\n",
    "results = pyco2.sys(**kwargs)\n",
    "\n",
    "# Extract and print out the result\n",
    "pH = results['pH']\n",
    "pH_data=np.array(pH)\n",
    "#save ph_predicted as its own column\n",
    "data['ph_pred']=pH_data.astype(float)"
   ]
  },
  {
   "cell_type": "code",
   "execution_count": 8,
   "metadata": {},
   "outputs": [],
   "source": [
    "#calculate d13C_pred\n",
    "\n",
    "T=25    #degree C\n",
    "S=35    #PSS\n",
    "TK = T + 273.15 \n",
    "DIC=np.array(data['DIC_trans'])\n",
    "\n",
    "K1 = 10**(-(3633.86/TK - 61.2172 + 9.67770 * np.log(TK)- 0.011555*S + 0.0001152 * S**2))\n",
    "K2 = 10**(-(471.78/TK + 25.9290 - 3.16967 * np.log(TK) - 0.01781*S + 0.0001122 * S**2))\n",
    "\n",
    "\n",
    "H=10**(-data['ph_pred'])\n",
    "\n",
    "#DIC concentrations calculated from pH\n",
    "HCO_3 = DIC/(1 + H/K1 + K2/H)\n",
    "CO_3 = DIC/(1 + H/K2 + H*H/(K1*K2))\n",
    "CO2 = DIC/(1 + K1/H + K1*K2/(H*H))\n",
    "\n",
    "#set d13C for DIC components\n",
    "CO2aq=-9\n",
    "CO3=-2\n",
    "HCO3=0\n",
    "\n",
    "#calculate d13C_DIC from DIC component concentrations\n",
    "\n",
    "d13C_DIC_pred = (CO2/DIC)*CO2aq + (CO_3/DIC)*CO3 + (HCO_3/DIC)*HCO3\n",
    "data['d13C_DIC_pred']=d13C_DIC_pred.astype(float)"
   ]
  },
  {
   "cell_type": "code",
   "execution_count": 9,
   "metadata": {},
   "outputs": [
    {
     "data": {
      "text/plain": [
       "2114"
      ]
     },
     "execution_count": 9,
     "metadata": {},
     "output_type": "execute_result"
    }
   ],
   "source": [
    "#calculate residual (d13C_measured - d13C_predicted)\n",
    "\n",
    "r = np.array(data['d13C_DIC']) - np.array(data['d13C_DIC_pred'])\n",
    "len(r)"
   ]
  },
  {
   "cell_type": "code",
   "execution_count": 11,
   "metadata": {},
   "outputs": [
    {
     "data": {
      "text/plain": [
       "373.0"
      ]
     },
     "execution_count": 11,
     "metadata": {},
     "output_type": "execute_result"
    },
    {
     "data": {
      "image/png": "[encoded data removed]",
      "text/plain": [
       "<Figure size 864x576 with 1 Axes>"
      ]
     },
     "metadata": {},
     "output_type": "display_data"
    }
   ],
   "source": [
    "#plot residual histogram\n",
    "\n",
    "plt.style.use('seaborn-darkgrid')\n",
    "plt.figure(figsize=(12,8))\n",
    "n,bins,patches = plt.hist(r,100,facecolor='g',alpha=0.75)\n",
    "plt.xticks(fontsize=15)\n",
    "plt.yticks(fontsize=15)\n",
    "# plt.ylabel('',fontsize=18)\n",
    "plt.xlabel('$\\delta^{13}$C(DIC)_observed - $\\delta^{13}$C(DIC)_predicted',fontsize=18)\n",
    "plt.title('residual histogram', fontsize=20)\n",
    "plt.grid(color='grey')\n",
    "np.sum(n)"
   ]
  },
  {
   "cell_type": "markdown",
   "metadata": {},
   "source": [
    "# calculate d13C from pH measured too, then calculate new residual..."
   ]
  },
  {
   "cell_type": "code",
   "execution_count": null,
   "metadata": {},
   "outputs": [],
   "source": []
  }
 ],
 "metadata": {
  "kernelspec": {
   "display_name": "Python 3 (ipykernel)",
   "language": "python",
   "name": "python3"
  },
  "language_info": {
   "codemirror_mode": {
    "name": "ipython",
    "version": 3
   },
   "file_extension": ".py",
   "mimetype": "text/x-python",
   "name": "python",
   "nbconvert_exporter": "python",
   "pygments_lexer": "ipython3",
   "version": "3.9.7"
  }
 },
 "nbformat": 4,
 "nbformat_minor": 2
}
