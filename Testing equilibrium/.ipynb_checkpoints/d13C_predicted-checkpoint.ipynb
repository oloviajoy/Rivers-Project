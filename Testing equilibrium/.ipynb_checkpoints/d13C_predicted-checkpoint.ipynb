{
 "cells": [
  {
   "cell_type": "code",
   "execution_count": 1,
   "metadata": {},
   "outputs": [
    {
     "name": "stderr",
     "output_type": "stream",
     "text": [
      "/opt/anaconda3/lib/python3.7/site-packages/openpyxl/worksheet/_reader.py:296: UserWarning: Unknown extension is not supported and will be removed\n",
      "  warn(msg)\n"
     ]
    }
   ],
   "source": [
    "#tool box\n",
    "import pandas as pd\n",
    "from scipy import stats\n",
    "import numpy as np\n",
    "from matplotlib import pyplot as plt\n",
    "\n",
    "#stylin\n",
    "plt.style.use('seaborn-darkgrid')\n",
    "\n",
    "#import the data\n",
    "pd.read_excel('river_13C_data(4).xlsx')\n",
    "data1=pd.read_excel('river_13C_data(4).xlsx')\n"
   ]
  },
  {
   "cell_type": "code",
   "execution_count": 2,
   "metadata": {},
   "outputs": [],
   "source": [
    "subset=pd.DataFrame({'geo_class':['river','river plume','river mouth','tributary','catchment','watershed','reservoir']})\n",
    "data=subset.merge(data1,on='geo_class')"
   ]
  },
  {
   "cell_type": "code",
   "execution_count": 3,
   "metadata": {},
   "outputs": [],
   "source": [
    "#convert all units to µM/L\n",
    "tmp_data=[]\n",
    "for i,d in data.iterrows():\n",
    "    #uM/L --> mM/L\n",
    "    if d['DIC_units']=='µM/L':\n",
    "        tmp_data.append(d['DIC'])\n",
    "    #mM/L --> mM/L\n",
    "    elif d['DIC_units']=='mM/L':\n",
    "        tmp_data.append(d['DIC']*1000)\n",
    "    #mM/Kg --> mM/L\n",
    "    elif d['DIC_units']=='mM/kg':\n",
    "        tmp_data.append(d['DIC']*1000)\n",
    "    #uM/kg --> mM/L\n",
    "    elif d['DIC_units']=='µM/kg':\n",
    "        tmp_data.append(d['DIC']) \n",
    "    #mg C/L --> mM/L\n",
    "    elif d['DIC_units']=='mg C/L':\n",
    "        tmp_data.append((d['DIC']/12.011)*1000)\n",
    "    else:\n",
    "        tmp_data.append(np.nan)\n",
    "        \n",
    "tmp_data=np.array(tmp_data)\n",
    "data['DIC_trans']=tmp_data.astype(float)"
   ]
  },
  {
   "cell_type": "code",
   "execution_count": 4,
   "metadata": {},
   "outputs": [],
   "source": [
    "HCO3_data=[]\n",
    "for i,d in data.iterrows():\n",
    "    if d['HCO3_units']=='µM/L':\n",
    "        HCO3_data.append(d['HCO3'])\n",
    "    elif d['HCO3_units']=='mM/L':\n",
    "        HCO3_data.append(d['HCO3']*1000)\n",
    "    elif d['HCO3_units']=='mg/L':\n",
    "        HCO3_data.append(d['HCO3']/61.0168)\n",
    "    else:\n",
    "        HCO3_data.append(np.nan)\n",
    "HCO3_data=np.array(HCO3_data)\n",
    "data['HCO3_trans']=HCO3_data.astype(float)"
   ]
  },
  {
   "cell_type": "code",
   "execution_count": 5,
   "metadata": {},
   "outputs": [
    {
     "data": {
      "text/plain": [
       "{'CaCO3 mg/L',\n",
       " 'g C/m^3',\n",
       " 'mM/L',\n",
       " 'mM/kg',\n",
       " 'meq/L',\n",
       " 'mg CaCO3 / L',\n",
       " nan,\n",
       " 'µM/L',\n",
       " 'µM/kg',\n",
       " 'µeq/L'}"
      ]
     },
     "execution_count": 5,
     "metadata": {},
     "output_type": "execute_result"
    }
   ],
   "source": [
    "set(data['Alk_units'])\n",
    "#is CaCO3 alkalinity not the same as total alkalinity? I feel like this is related to CA not TA\n",
    "#pull paper this data comes from..."
   ]
  },
  {
   "cell_type": "code",
   "execution_count": 6,
   "metadata": {},
   "outputs": [],
   "source": [
    "Alk_data=[]\n",
    "for i,d in data.iterrows():\n",
    "    if d['Alk_units']=='mM/L':\n",
    "        Alk_data.append(d['Alk']*1000)\n",
    "    elif d['Alk_units']=='mM/kg':\n",
    "        Alk_data.append(d['Alk']*1000)\n",
    "    elif d['Alk_units']=='meq/L':\n",
    "        Alk_data.append(d['Alk']*1000)\n",
    "    elif d['Alk_units']=='µM/L':\n",
    "        Alk_data.append(d['Alk'])\n",
    "    elif d['Alk_units']=='M/kg':\n",
    "        Alk_data.append(d['Alk'])\n",
    "    elif d['Alk_units']=='µeq/L':\n",
    "        Alk_data.append(d['Alk'])\n",
    "    else:\n",
    "        Alk_data.append(np.nan)\n",
    "        \n",
    "Alk_data=np.array(Alk_data)\n",
    "data['Alk_trans']=Alk_data.astype(float)"
   ]
  },
  {
   "cell_type": "code",
   "execution_count": 18,
   "metadata": {},
   "outputs": [],
   "source": [
    "#converting pCO2 units to uatm\n",
    "pCO2_data=[]\n",
    "for i,d in data.iterrows():\n",
    "    if d['CO2_units']=='µatm':\n",
    "        pCO2_data.append(d['CO2'])\n",
    "    elif d['CO2_units']=='log(pCO2)':\n",
    "        pCO2_data.append((10**(d['CO2']))*1000)\n",
    "    elif d['CO2_units']=='log(pCO2)(mbar)':\n",
    "        pCO2_data.append(((10**(d['CO2']))*0.000986923)*1000)\n",
    "    elif d['CO2_units']=='mbar':\n",
    "        pCO2_data.append((d['CO2']*0.000986923)*1000)\n",
    "    elif d['CO2_units']=='Pa':\n",
    "        pCO2_data.append((d['CO2']*9.8692300004935e-6)*1000)\n",
    "#convert here... \n",
    "    elif d['CO2_units']=='ppm':\n",
    "        pCO2_data.append(np.nan)\n",
    "    elif d['CO2_units']=='ppmv':#mg/m^3\n",
    "        pCO2_data.append(np.nan)\n",
    "#         pCO2_data.append(d['CO2']*1000)            \n",
    "    elif d['CO2_units']=='µM/L':\n",
    "        pCO2_data.append(np.nan)\n",
    "    else:\n",
    "        pCO2_data.append(np.nan)\n",
    "        \n",
    "pCO2_data=np.array(pCO2_data)\n",
    "data['pCO2_trans']=pCO2_data.astype(float)"
   ]
  },
  {
   "cell_type": "code",
   "execution_count": 7,
   "metadata": {},
   "outputs": [],
   "source": [
    "import numpy as np\n",
    "import pandas as pd\n",
    "import xarray\n",
    "from matplotlib import pyplot as plt"
   ]
  },
  {
   "cell_type": "code",
   "execution_count": 8,
   "metadata": {},
   "outputs": [
    {
     "name": "stdout",
     "output_type": "stream",
     "text": [
      "Conditions have been defined!\n"
     ]
    }
   ],
   "source": [
    "# define input conditions; DIC and Alk\n",
    "kwargs = dict(\n",
    "    par1 = data['Alk_trans'],\n",
    "    par1_type = 1, #alkalinity\n",
    "    par2 = data['DIC_trans'],\n",
    "    par2_type = 2 #DIC\n",
    ")\n",
    "print(\"Conditions have been defined!\")"
   ]
  },
  {
   "cell_type": "code",
   "execution_count": 9,
   "metadata": {},
   "outputs": [],
   "source": [
    "# Import PyCO2SYS\n",
    "import PyCO2SYS as pyco2\n",
    "\n",
    "# Run PyCO2SYS\n",
    "results = pyco2.sys(**kwargs)\n",
    "\n",
    "# Extract and print out the result\n",
    "pH = results['pH']\n",
    "pH_data=np.array(pH)\n",
    "#save ph_predicted as its own column\n",
    "data['ph_pred']=pH_data.astype(float)"
   ]
  },
  {
   "cell_type": "code",
   "execution_count": 10,
   "metadata": {},
   "outputs": [],
   "source": [
    "#calculate d13C_pred\n",
    "\n",
    "T=25    #degree C\n",
    "S=35    #PSS\n",
    "TK = T + 273.15 \n",
    "DIC=np.array(data['DIC_trans'])\n",
    "\n",
    "K1 = 10**(-(3633.86/TK - 61.2172 + 9.67770 * np.log(TK)- 0.011555*S + 0.0001152 * S**2))\n",
    "K2 = 10**(-(471.78/TK + 25.9290 - 3.16967 * np.log(TK) - 0.01781*S + 0.0001122 * S**2))\n",
    "\n",
    "\n",
    "H=10**(-data['ph_pred'])\n",
    "\n",
    "#DIC concentrations calculated from pH\n",
    "HCO_3 = DIC/(1 + H/K1 + K2/H)\n",
    "CO_3 = DIC/(1 + H/K2 + H*H/(K1*K2))\n",
    "CO2 = DIC/(1 + K1/H + K1*K2/(H*H))\n",
    "#set d13C for DIC components\n",
    "CO2aq=-9\n",
    "CO3=-2\n",
    "HCO3=0\n",
    "\n",
    "#calculate d13C_DIC from DIC component concentrations\n",
    "\n",
    "d13C_DIC_pred = (CO2/DIC)*CO2aq + (CO_3/DIC)*CO3 + (HCO_3/DIC)*HCO3\n",
    "data['d13C_DIC_pred']=d13C_DIC_pred.astype(float)"
   ]
  },
  {
   "cell_type": "code",
   "execution_count": 19,
   "metadata": {},
   "outputs": [
    {
     "data": {
      "text/plain": [
       "3990"
      ]
     },
     "execution_count": 19,
     "metadata": {},
     "output_type": "execute_result"
    }
   ],
   "source": [
    "#calculate residual (d13C_measured - d13C_predicted)\n",
    "\n",
    "r = np.array(data['d13C_DIC']) - np.array(data['d13C_DIC_pred'])\n",
    "len(r)"
   ]
  },
  {
   "cell_type": "code",
   "execution_count": 15,
   "metadata": {},
   "outputs": [
    {
     "data": {
      "image/png": "[encoded data removed]",
      "text/plain": [
       "<Figure size 864x576 with 1 Axes>"
      ]
     },
     "metadata": {},
     "output_type": "display_data"
    }
   ],
   "source": [
    "#plot residual histogram\n",
    "\n",
    "plt.style.use('seaborn-darkgrid')\n",
    "plt.figure(figsize=(12,8))\n",
    "plt.hist(r,bins=50)\n",
    "plt.xticks(fontsize=15)\n",
    "plt.yticks(fontsize=15)\n",
    "# plt.ylabel('',fontsize=18)\n",
    "plt.xlabel('$\\delta^{13}$C(DIC)_observed - $\\delta^{13}$C(DIC)_predicted',fontsize=18)\n",
    "plt.title('residual histogram', fontsize=20)\n",
    "plt.grid(color='grey')\n"
   ]
  },
  {
   "cell_type": "code",
   "execution_count": 13,
   "metadata": {},
   "outputs": [
    {
     "data": {
      "image/png": "[encoded data removed]",
      "text/plain": [
       "<Figure size 864x576 with 1 Axes>"
      ]
     },
     "metadata": {},
     "output_type": "display_data"
    }
   ],
   "source": [
    "#residual for ph_pred\n",
    "r_ph = data['pH'] - data['ph_pred']\n",
    "\n",
    "plt.style.use('seaborn-darkgrid')\n",
    "plt.figure(figsize=(12,8))\n",
    "plt.hist(r_ph,bins=50)\n",
    "plt.xticks(fontsize=15)\n",
    "plt.yticks(fontsize=15)\n",
    "# plt.ylabel('',fontsize=18)\n",
    "plt.xlabel('pH_observed  -  pH_predicted',fontsize=18)\n",
    "plt.title('residual histogram', fontsize=20)\n",
    "plt.grid(color='grey')"
   ]
  },
  {
   "cell_type": "code",
   "execution_count": null,
   "metadata": {},
   "outputs": [],
   "source": [
    "# what about data where I dont have DIC and Alk, but I do have DIC and HCO3 or Alk and HCO3?\n",
    "#possible combos:\n",
    "    #DIC/Alk\n",
    "    #DIC/HCO3\n",
    "    #DIC/CO2\n",
    "    #Alk/HCO3\n",
    "    #ALK/CO2\n",
    "    \n",
    "    \n"
   ]
  }
 ],
 "metadata": {
  "kernelspec": {
   "display_name": "Python 3",
   "language": "python",
   "name": "python3"
  },
  "language_info": {
   "codemirror_mode": {
    "name": "ipython",
    "version": 3
   },
   "file_extension": ".py",
   "mimetype": "text/x-python",
   "name": "python",
   "nbconvert_exporter": "python",
   "pygments_lexer": "ipython3",
   "version": "3.7.4"
  }
 },
 "nbformat": 4,
 "nbformat_minor": 2
}
